{
 "cells": [
  {
   "cell_type": "markdown",
   "metadata": {},
   "source": [
    "# 重回帰分析および構造方程式モデルの実装"
   ]
  },
  {
   "cell_type": "markdown",
   "metadata": {},
   "source": [
    "----"
   ]
  },
  {
   "cell_type": "markdown",
   "metadata": {},
   "source": [
    "ライブラリのインポート"
   ]
  },
  {
   "cell_type": "code",
   "execution_count": 1,
   "metadata": {},
   "outputs": [],
   "source": [
    "import numpy as np\n",
    "import pandas as pd\n",
    "import statsmodels.api as sm\n",
    "import semopy as sem\n",
    "\n",
    "import graphviz"
   ]
  },
  {
   "cell_type": "markdown",
   "metadata": {},
   "source": [
    "### シミュレーションデータの作成  \n",
    "アイスが売れた数 = a + (-2 * 価格) + (3 * 気温) + 誤差項"
   ]
  },
  {
   "cell_type": "code",
   "execution_count": 2,
   "metadata": {},
   "outputs": [],
   "source": [
    "#set seed\n",
    "np.random.seed(77)\n",
    "#size\n",
    "n = 300\n",
    "# 説明変数とerror term\n",
    "price = np.random.normal(200,20,n)\n",
    "\n",
    "temp = np.random.uniform(0,40,n)\n",
    "\n",
    "e = np.random.normal(0,10,n)\n",
    "\n",
    "#アイスの売れた数\n",
    "q = 10 + (-2*price) + 3*temp + e"
   ]
  },
  {
   "cell_type": "code",
   "execution_count": 3,
   "metadata": {},
   "outputs": [],
   "source": [
    "df = pd.DataFrame({\n",
    "    'quantity': q,\n",
    "    'price': price, 'temperature': temp\n",
    "})"
   ]
  },
  {
   "cell_type": "code",
   "execution_count": 4,
   "metadata": {},
   "outputs": [
    {
     "data": {
      "text/html": [
       "<div>\n",
       "<style scoped>\n",
       "    .dataframe tbody tr th:only-of-type {\n",
       "        vertical-align: middle;\n",
       "    }\n",
       "\n",
       "    .dataframe tbody tr th {\n",
       "        vertical-align: top;\n",
       "    }\n",
       "\n",
       "    .dataframe thead th {\n",
       "        text-align: right;\n",
       "    }\n",
       "</style>\n",
       "<table border=\"1\" class=\"dataframe\">\n",
       "  <thead>\n",
       "    <tr style=\"text-align: right;\">\n",
       "      <th></th>\n",
       "      <th>quantity</th>\n",
       "      <th>price</th>\n",
       "      <th>temperature</th>\n",
       "    </tr>\n",
       "  </thead>\n",
       "  <tbody>\n",
       "    <tr>\n",
       "      <th>0</th>\n",
       "      <td>-339.903523</td>\n",
       "      <td>204.488897</td>\n",
       "      <td>22.119739</td>\n",
       "    </tr>\n",
       "    <tr>\n",
       "      <th>1</th>\n",
       "      <td>-320.213616</td>\n",
       "      <td>213.230629</td>\n",
       "      <td>28.569477</td>\n",
       "    </tr>\n",
       "    <tr>\n",
       "      <th>2</th>\n",
       "      <td>-255.717824</td>\n",
       "      <td>188.404847</td>\n",
       "      <td>38.656291</td>\n",
       "    </tr>\n",
       "    <tr>\n",
       "      <th>3</th>\n",
       "      <td>-300.597746</td>\n",
       "      <td>208.156226</td>\n",
       "      <td>38.516902</td>\n",
       "    </tr>\n",
       "    <tr>\n",
       "      <th>4</th>\n",
       "      <td>-395.951054</td>\n",
       "      <td>209.329587</td>\n",
       "      <td>6.422726</td>\n",
       "    </tr>\n",
       "    <tr>\n",
       "      <th>...</th>\n",
       "      <td>...</td>\n",
       "      <td>...</td>\n",
       "      <td>...</td>\n",
       "    </tr>\n",
       "    <tr>\n",
       "      <th>295</th>\n",
       "      <td>-320.716243</td>\n",
       "      <td>191.322213</td>\n",
       "      <td>14.559923</td>\n",
       "    </tr>\n",
       "    <tr>\n",
       "      <th>296</th>\n",
       "      <td>-310.860445</td>\n",
       "      <td>185.473721</td>\n",
       "      <td>19.801930</td>\n",
       "    </tr>\n",
       "    <tr>\n",
       "      <th>297</th>\n",
       "      <td>-395.660084</td>\n",
       "      <td>206.049081</td>\n",
       "      <td>1.986467</td>\n",
       "    </tr>\n",
       "    <tr>\n",
       "      <th>298</th>\n",
       "      <td>-374.059167</td>\n",
       "      <td>225.408076</td>\n",
       "      <td>23.041919</td>\n",
       "    </tr>\n",
       "    <tr>\n",
       "      <th>299</th>\n",
       "      <td>-380.512139</td>\n",
       "      <td>206.140100</td>\n",
       "      <td>10.741117</td>\n",
       "    </tr>\n",
       "  </tbody>\n",
       "</table>\n",
       "<p>300 rows × 3 columns</p>\n",
       "</div>"
      ],
      "text/plain": [
       "       quantity       price  temperature\n",
       "0   -339.903523  204.488897    22.119739\n",
       "1   -320.213616  213.230629    28.569477\n",
       "2   -255.717824  188.404847    38.656291\n",
       "3   -300.597746  208.156226    38.516902\n",
       "4   -395.951054  209.329587     6.422726\n",
       "..          ...         ...          ...\n",
       "295 -320.716243  191.322213    14.559923\n",
       "296 -310.860445  185.473721    19.801930\n",
       "297 -395.660084  206.049081     1.986467\n",
       "298 -374.059167  225.408076    23.041919\n",
       "299 -380.512139  206.140100    10.741117\n",
       "\n",
       "[300 rows x 3 columns]"
      ]
     },
     "execution_count": 4,
     "metadata": {},
     "output_type": "execute_result"
    }
   ],
   "source": [
    "df"
   ]
  },
  {
   "cell_type": "markdown",
   "metadata": {},
   "source": [
    "### 重回帰分析"
   ]
  },
  {
   "cell_type": "code",
   "execution_count": 5,
   "metadata": {},
   "outputs": [
    {
     "name": "stdout",
     "output_type": "stream",
     "text": [
      "                            OLS Regression Results                            \n",
      "==============================================================================\n",
      "Dep. Variable:               quantity   R-squared:                       0.967\n",
      "Model:                            OLS   Adj. R-squared:                  0.966\n",
      "Method:                 Least Squares   F-statistic:                     4302.\n",
      "Date:                Wed, 11 Dec 2024   Prob (F-statistic):          5.13e-220\n",
      "Time:                        17:53:49   Log-Likelihood:                -1115.3\n",
      "No. Observations:                 300   AIC:                             2237.\n",
      "Df Residuals:                     297   BIC:                             2248.\n",
      "Df Model:                           2                                         \n",
      "Covariance Type:            nonrobust                                         \n",
      "===============================================================================\n",
      "                  coef    std err          t      P>|t|      [0.025      0.975]\n",
      "-------------------------------------------------------------------------------\n",
      "const          12.2704      6.235      1.968      0.050      -0.000      24.541\n",
      "price          -2.0102      0.030    -66.546      0.000      -2.070      -1.951\n",
      "temperature     3.0135      0.053     56.871      0.000       2.909       3.118\n",
      "==============================================================================\n",
      "Omnibus:                        0.309   Durbin-Watson:                   2.041\n",
      "Prob(Omnibus):                  0.857   Jarque-Bera (JB):                0.249\n",
      "Skew:                           0.070   Prob(JB):                        0.883\n",
      "Kurtosis:                       3.006   Cond. No.                     2.16e+03\n",
      "==============================================================================\n",
      "\n",
      "Notes:\n",
      "[1] Standard Errors assume that the covariance matrix of the errors is correctly specified.\n",
      "[2] The condition number is large, 2.16e+03. This might indicate that there are\n",
      "strong multicollinearity or other numerical problems.\n"
     ]
    }
   ],
   "source": [
    "X = sm.add_constant(df[['price', 'temperature']])\n",
    "y = df['quantity']\n",
    "\n",
    "model = sm.OLS(y, X)\n",
    "res = model.fit()\n",
    "print(res.summary())"
   ]
  },
  {
   "cell_type": "markdown",
   "metadata": {},
   "source": [
    "### 構造方程式モデル"
   ]
  },
  {
   "cell_type": "code",
   "execution_count": 6,
   "metadata": {},
   "outputs": [
    {
     "name": "stdout",
     "output_type": "stream",
     "text": [
      "Name of objective: GLS\n",
      "Optimization method: SLSQP\n",
      "Optimization successful.\n",
      "Optimization terminated successfully\n",
      "Objective value: 0.000\n",
      "Number of iterations: 28\n",
      "Params: -2.010 3.013 99.270\n"
     ]
    }
   ],
   "source": [
    "#構造方程式モデル https://semopy.com/\n",
    "\n",
    "model_sem = sem.Model('quantity ~ price + temperature')\n",
    "\n",
    "#デフォルトではWishart Maximum Likelihoodを逐次最小2乗計画法で最小化\n",
    "result = model_sem.fit(df, obj=\"GLS\") \n",
    "print(result)\n"
   ]
  },
  {
   "cell_type": "code",
   "execution_count": null,
   "metadata": {},
   "outputs": [
    {
     "name": "stdout",
     "output_type": "stream",
     "text": [
      "モデルの評価\n",
      "                      Value\n",
      "DoF            3.000000e+00\n",
      "DoF Baseline   5.000000e+00\n",
      "chi2           2.026843e-05\n",
      "chi2 p-value   1.000000e+00\n",
      "chi2 Baseline  2.034331e+05\n",
      "CFI            1.000015e+00\n",
      "GFI            1.000000e+00\n",
      "AGFI           1.000000e+00\n",
      "NFI            1.000000e+00\n",
      "TLI            1.000025e+00\n",
      "RMSEA          0.000000e+00\n",
      "AIC            6.000000e+00\n",
      "BIC            1.711135e+01\n",
      "LogLik         3.376918e-08\n",
      "モデルの詳細\n",
      "       lval  op         rval   Estimate  Std. Err    z-value  p-value\n",
      "0  quantity   ~        price  -2.010228  0.030060 -66.872894      0.0\n",
      "1  quantity   ~  temperature   3.013471  0.052730  57.149560      0.0\n",
      "2  quantity  ~~     quantity  99.269594  8.105328  12.247449      0.0\n"
     ]
    }
   ],
   "source": [
    "#SEMの評価\n",
    "\n",
    "## 全体的評価\n",
    "eval = sem.calc_stats(model_sem)\n",
    "print(\"モデルの評価\")\n",
    "print(eval.T)\n",
    "\n",
    "print('----------')\n",
    "\n",
    "ins = model_sem.inspect()\n",
    "print(\"モデルの詳細\")\n",
    "print(ins)"
   ]
  },
  {
   "cell_type": "code",
   "execution_count": 9,
   "metadata": {},
   "outputs": [],
   "source": [
    "#グラフィカルな分析\n",
    "plot = sem.semplot(model_sem, \"sem_tutorial.png\")\n",
    "plot"
   ]
  }
 ],
 "metadata": {
  "kernelspec": {
   "display_name": "Python 3",
   "language": "python",
   "name": "python3"
  },
  "language_info": {
   "codemirror_mode": {
    "name": "ipython",
    "version": 3
   },
   "file_extension": ".py",
   "mimetype": "text/x-python",
   "name": "python",
   "nbconvert_exporter": "python",
   "pygments_lexer": "ipython3",
   "version": "3.12.6"
  }
 },
 "nbformat": 4,
 "nbformat_minor": 2
}
